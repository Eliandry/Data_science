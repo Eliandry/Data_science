{
 "cells": [
  {
   "cell_type": "code",
   "execution_count": 56,
   "id": "11ac93e2",
   "metadata": {},
   "outputs": [],
   "source": [
    "import pandas as pd\n",
    "import os \n",
    "from tqdm.auto import tqdm"
   ]
  },
  {
   "cell_type": "code",
   "execution_count": 4,
   "id": "409e00b1",
   "metadata": {},
   "outputs": [],
   "source": [
    "df = pd.read_csv('Дата-сет_Задача 1.csv',encoding = 'cp1251',sep = ';')"
   ]
  },
  {
   "cell_type": "code",
   "execution_count": 6,
   "id": "728c0d6f",
   "metadata": {},
   "outputs": [],
   "source": [
    "df_file = df[df['Наименование_файла_с_описанием']==df['Наименование_файла_с_описанием']]"
   ]
  },
  {
   "cell_type": "code",
   "execution_count": 54,
   "id": "b21ef3e6",
   "metadata": {},
   "outputs": [],
   "source": [
    "import fitz # install using: pip install PyMuPDF\n",
    "def get_first_page_from_pdf(fname):\n",
    "    with fitz.open(os.path.join('Разметка/',fname)) as doc:\n",
    "        text = \"\"\n",
    "        for page in doc:\n",
    "            text += page.get_text()\n",
    "    return text"
   ]
  },
  {
   "cell_type": "code",
   "execution_count": 47,
   "id": "06b8ceb3",
   "metadata": {},
   "outputs": [
    {
     "data": {
      "text/plain": [
       "array(['Меры длины концевые плоскопараллельные'], dtype=object)"
      ]
     },
     "execution_count": 47,
     "metadata": {},
     "output_type": "execute_result"
    }
   ],
   "source": [
    "df_file[df_file['Наименование_файла_с_описанием']==intersections[148]]['Наименование_СИ'].values"
   ]
  },
  {
   "cell_type": "code",
   "execution_count": 65,
   "id": "f6e0e1c0",
   "metadata": {},
   "outputs": [
    {
     "data": {
      "text/html": [
       "<div>\n",
       "<style scoped>\n",
       "    .dataframe tbody tr th:only-of-type {\n",
       "        vertical-align: middle;\n",
       "    }\n",
       "\n",
       "    .dataframe tbody tr th {\n",
       "        vertical-align: top;\n",
       "    }\n",
       "\n",
       "    .dataframe thead th {\n",
       "        text-align: right;\n",
       "    }\n",
       "</style>\n",
       "<table border=\"1\" class=\"dataframe\">\n",
       "  <thead>\n",
       "    <tr style=\"text-align: right;\">\n",
       "      <th></th>\n",
       "      <th>Номер_в_госреестре</th>\n",
       "      <th>Наименование_СИ</th>\n",
       "      <th>Единица_измерения_СИ</th>\n",
       "      <th>Погрешность_СИ</th>\n",
       "      <th>Наименование_файла_с_описанием</th>\n",
       "    </tr>\n",
       "  </thead>\n",
       "  <tbody>\n",
       "    <tr>\n",
       "      <th>0</th>\n",
       "      <td>564-50</td>\n",
       "      <td>Проекторы</td>\n",
       "      <td>NaN</td>\n",
       "      <td>NaN</td>\n",
       "      <td>NaN</td>\n",
       "    </tr>\n",
       "    <tr>\n",
       "      <th>1</th>\n",
       "      <td>5641-76</td>\n",
       "      <td>Термометры манометрические газовые</td>\n",
       "      <td>NaN</td>\n",
       "      <td>NaN</td>\n",
       "      <td>NaN</td>\n",
       "    </tr>\n",
       "    <tr>\n",
       "      <th>2</th>\n",
       "      <td>5640-76</td>\n",
       "      <td>Дифманометры сильфонные</td>\n",
       "      <td>NaN</td>\n",
       "      <td>NaN</td>\n",
       "      <td>NaN</td>\n",
       "    </tr>\n",
       "    <tr>\n",
       "      <th>3</th>\n",
       "      <td>46827-11</td>\n",
       "      <td>Дефектоскоп ультразвуковой восьмиканальный</td>\n",
       "      <td>NaN</td>\n",
       "      <td>NaN</td>\n",
       "      <td>2011-46827-11.pdf</td>\n",
       "    </tr>\n",
       "    <tr>\n",
       "      <th>4</th>\n",
       "      <td>5642-76</td>\n",
       "      <td>Вольтметры</td>\n",
       "      <td>NaN</td>\n",
       "      <td>NaN</td>\n",
       "      <td>NaN</td>\n",
       "    </tr>\n",
       "    <tr>\n",
       "      <th>...</th>\n",
       "      <td>...</td>\n",
       "      <td>...</td>\n",
       "      <td>...</td>\n",
       "      <td>...</td>\n",
       "      <td>...</td>\n",
       "    </tr>\n",
       "    <tr>\n",
       "      <th>100420</th>\n",
       "      <td>83818-21</td>\n",
       "      <td>Преобразователи</td>\n",
       "      <td>NaN</td>\n",
       "      <td>NaN</td>\n",
       "      <td>NaN</td>\n",
       "    </tr>\n",
       "    <tr>\n",
       "      <th>100421</th>\n",
       "      <td>,aa78d5ee-c0e7-4124-a51c-ee4bc6dcd344,2021-838...</td>\n",
       "      <td>NaN</td>\n",
       "      <td>NaN</td>\n",
       "      <td>NaN</td>\n",
       "      <td>NaN</td>\n",
       "    </tr>\n",
       "    <tr>\n",
       "      <th>100422</th>\n",
       "      <td>83829-21</td>\n",
       "      <td>Анализаторы</td>\n",
       "      <td>NaN</td>\n",
       "      <td>NaN</td>\n",
       "      <td>NaN</td>\n",
       "    </tr>\n",
       "    <tr>\n",
       "      <th>100423</th>\n",
       "      <td>,0ba2d02f-85eb-413b-8516-3cbfb2cae77e,2021-838...</td>\n",
       "      <td>NaN</td>\n",
       "      <td>NaN</td>\n",
       "      <td>NaN</td>\n",
       "      <td>NaN</td>\n",
       "    </tr>\n",
       "    <tr>\n",
       "      <th>100424</th>\n",
       "      <td>65257-16</td>\n",
       "      <td>Резервуары горизонтальные стальные (траншейные)</td>\n",
       "      <td>NaN</td>\n",
       "      <td>NaN</td>\n",
       "      <td>2021-65257-16.pdf</td>\n",
       "    </tr>\n",
       "  </tbody>\n",
       "</table>\n",
       "<p>100425 rows × 5 columns</p>\n",
       "</div>"
      ],
      "text/plain": [
       "                                       Номер_в_госреестре  \\\n",
       "0                                                  564-50   \n",
       "1                                                 5641-76   \n",
       "2                                                 5640-76   \n",
       "3                                                46827-11   \n",
       "4                                                 5642-76   \n",
       "...                                                   ...   \n",
       "100420                                           83818-21   \n",
       "100421  ,aa78d5ee-c0e7-4124-a51c-ee4bc6dcd344,2021-838...   \n",
       "100422                                           83829-21   \n",
       "100423  ,0ba2d02f-85eb-413b-8516-3cbfb2cae77e,2021-838...   \n",
       "100424                                           65257-16   \n",
       "\n",
       "                                        Наименование_СИ  Единица_измерения_СИ  \\\n",
       "0                                             Проекторы                   NaN   \n",
       "1                    Термометры манометрические газовые                   NaN   \n",
       "2                               Дифманометры сильфонные                   NaN   \n",
       "3            Дефектоскоп ультразвуковой восьмиканальный                   NaN   \n",
       "4                                            Вольтметры                   NaN   \n",
       "...                                                 ...                   ...   \n",
       "100420                                  Преобразователи                   NaN   \n",
       "100421                                              NaN                   NaN   \n",
       "100422                                      Анализаторы                   NaN   \n",
       "100423                                              NaN                   NaN   \n",
       "100424  Резервуары горизонтальные стальные (траншейные)                   NaN   \n",
       "\n",
       "        Погрешность_СИ Наименование_файла_с_описанием  \n",
       "0                  NaN                            NaN  \n",
       "1                  NaN                            NaN  \n",
       "2                  NaN                            NaN  \n",
       "3                  NaN              2011-46827-11.pdf  \n",
       "4                  NaN                            NaN  \n",
       "...                ...                            ...  \n",
       "100420             NaN                            NaN  \n",
       "100421             NaN                            NaN  \n",
       "100422             NaN                            NaN  \n",
       "100423             NaN                            NaN  \n",
       "100424             NaN              2021-65257-16.pdf  \n",
       "\n",
       "[100425 rows x 5 columns]"
      ]
     },
     "execution_count": 65,
     "metadata": {},
     "output_type": "execute_result"
    }
   ],
   "source": [
    "df"
   ]
  },
  {
   "cell_type": "code",
   "execution_count": 9,
   "id": "fd2a23f8",
   "metadata": {},
   "outputs": [],
   "source": [
    "all_pdf_files = os.listdir('Разметка/')"
   ]
  },
  {
   "cell_type": "code",
   "execution_count": 16,
   "id": "ec1d8f6a",
   "metadata": {},
   "outputs": [],
   "source": [
    "intersections = list(set(all_pdf_files).intersection(set(list(df['Наименование_файла_с_описанием']))))"
   ]
  },
  {
   "cell_type": "code",
   "execution_count": 80,
   "id": "2374b365",
   "metadata": {},
   "outputs": [
    {
     "data": {
      "text/plain": [
       "'2019-76302-19.pdf'"
      ]
     },
     "execution_count": 80,
     "metadata": {},
     "output_type": "execute_result"
    }
   ],
   "source": [
    "intersections[0]"
   ]
  },
  {
   "cell_type": "code",
   "execution_count": 79,
   "id": "6147b101",
   "metadata": {},
   "outputs": [
    {
     "data": {
      "application/vnd.jupyter.widget-view+json": {
       "model_id": "3dcc15b082294dda95a7838162635a44",
       "version_major": 2,
       "version_minor": 0
      },
      "text/plain": [
       "  0%|          | 0/10 [00:00<?, ?it/s]"
      ]
     },
     "metadata": {},
     "output_type": "display_data"
    },
    {
     "name": "stdout",
     "output_type": "stream",
     "text": [
      "\n",
      "Трансформаторы тока ТФНД-220-IV \n",
      "-----------------\n",
      "['Трансформаторы тока']\n",
      "=================\n",
      "\n",
      " \n",
      "Система автоматизированная информационно-измерительная коммерческого учета \n",
      "электроэнергии (АИИС КУЭ) тяговой подстанции \"Единовер\" Южно-Уральской ЖД – филиала \n",
      "ОАО \"Российские Железные Дороги\" в границах Челябинской области \n",
      "-----------------\n",
      "['Система автоматизированная информационно-измерительная коммерческого учета электроэнергии (АИИС КУЭ) тяговой подстанции \"Единовер\" Южно-Уральской ЖД - филиала ОАО \"Российские Железные Дороги\" в границах Челябинской области']\n",
      "=================\n",
      "\n",
      "Система автоматизированная информационно-измерительная коммерческого учета \n",
      "электроэнергии ОАО «Сетевая компания» ПЭС Рыбно-Слободского РЭС 2 \n",
      "-----------------\n",
      "['Система автоматизированная информационно-измерительная коммерческого учета электроэнергии ОАО \"Сетевая компания\" ПЭС Рыбно-Слободского РЭС 2']\n",
      "=================\n",
      "\n",
      "Осциллографы цифровые EDUX1052A, EDUX1052G, DSOX1202A, DSOX1202G \n",
      "-----------------\n",
      "['Осциллографы цифровые ']\n",
      "=================\n",
      "\n",
      "          Аппаратура геодезическая спутниковая Trimble R3 \n",
      "-----------------\n",
      "['Аппаратура геодезическая спутниковая']\n",
      "=================\n",
      "not found\n",
      "-----------------\n",
      "['Измерители давления']\n",
      "=================\n",
      "\n",
      "Комплексы аппаратно-программные «Вокорд-Трафик А» \n",
      "-----------------\n",
      "['Комплексы аппаратно-программные']\n",
      "=================\n",
      "\n",
      "Дозаторы  объёмные  поршневые Rainin \n",
      "-----------------\n",
      "['Дозаторы объемные поршневые']\n",
      "=================\n",
      "\n",
      " \n",
      "Расходомеры-счётчики электромагнитные ЭСКО-Р \n",
      "-----------------\n",
      "['Расходомеры-счетчики электромагнитные']\n",
      "=================\n",
      "\n",
      "Система измерений количества и показателей качества нефти на ПСП \n",
      "«Марковское» ООО «ИНК» \n",
      "-----------------\n",
      "['Система измерений количества и показателей качества нефти на ПСП \"Марковское\" ООО \"ИНК\"']\n",
      "=================\n"
     ]
    }
   ],
   "source": [
    "k = 0 \n",
    "stopword = '(далее'\n",
    "kmax = len(intersections)\n",
    "for f in tqdm(intersections[:10]):\n",
    "    text = get_first_page_from_pdf(f)\n",
    "    if (stopword in text):\n",
    "        print(text.split(stopword)[0].split('Назначение средства измерений ')[1])\n",
    "    else:\n",
    "        print('not found')\n",
    "    print('-----------------')\n",
    "    print((df_file[df_file['Наименование_файла_с_описанием']==f]['Наименование_СИ']).values)\n",
    "    print('=================')\n",
    "        \n",
    "    "
   ]
  },
  {
   "cell_type": "code",
   "execution_count": 64,
   "id": "92cbf14b",
   "metadata": {},
   "outputs": [
    {
     "data": {
      "application/vnd.jupyter.widget-view+json": {
       "model_id": "c21035838bf740bb96ba8daf83f83e9b",
       "version_major": 2,
       "version_minor": 0
      },
      "text/plain": [
       "  0%|          | 0/886 [00:00<?, ?it/s]"
      ]
     },
     "metadata": {},
     "output_type": "display_data"
    },
    {
     "name": "stdout",
     "output_type": "stream",
     "text": [
      "0.8792325056433409\n"
     ]
    }
   ],
   "source": [
    "k = 0 \n",
    "kmax = len(intersections)\n",
    "for f in tqdm(intersections):\n",
    "    text = get_first_page_from_pdf(f)\n",
    "    if ('Описание средства') in text:\n",
    "        k+=1\n",
    "print(k/kmax)\n",
    "    "
   ]
  }
 ],
 "metadata": {
  "kernelspec": {
   "display_name": "Python 3",
   "language": "python",
   "name": "python3"
  },
  "language_info": {
   "codemirror_mode": {
    "name": "ipython",
    "version": 3
   },
   "file_extension": ".py",
   "mimetype": "text/x-python",
   "name": "python",
   "nbconvert_exporter": "python",
   "pygments_lexer": "ipython3",
   "version": "3.7.10"
  }
 },
 "nbformat": 4,
 "nbformat_minor": 5
}
