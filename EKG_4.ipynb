{
  "cells": [
    {
      "cell_type": "code",
      "execution_count": null,
      "id": "038403e8",
      "metadata": {
        "id": "038403e8"
      },
      "outputs": [],
      "source": [
        "import pandas as pd\n",
        "import matplotlib.pyplot as plt\n",
        "import numpy as np\n",
        "from sklearn import preprocessing\n",
        "import os\n"
      ]
    },
    {
      "cell_type": "code",
      "source": [
        "from google.colab import drive\n",
        "drive.mount('/content/drive')"
      ],
      "metadata": {
        "colab": {
          "base_uri": "https://localhost:8080/"
        },
        "id": "ITbNXOC4yxNf",
        "outputId": "7250d494-f25a-4e34-b035-353ceb6a7b84"
      },
      "id": "ITbNXOC4yxNf",
      "execution_count": null,
      "outputs": [
        {
          "output_type": "stream",
          "name": "stdout",
          "text": [
            "Mounted at /content/drive\n"
          ]
        }
      ]
    },
    {
      "cell_type": "code",
      "execution_count": null,
      "id": "bc114ab1",
      "metadata": {
        "id": "bc114ab1"
      },
      "outputs": [],
      "source": [
        "def prepare_data(data):\n",
        "\n",
        "\n",
        "    # Данные для очистки.\n",
        "\n",
        "    for i in data:\n",
        "\n",
        "        percentiles = np.percentile(data[i],[1,99])\n",
        "\n",
        "\n",
        "        data.loc[((data[i] <= percentiles[0]) |\n",
        "                      (data[i] >= percentiles[1])), i] = 0\n",
        "\n",
        "\n",
        "        percentiles_2 =np.percentile(data[i],[5,95])\n",
        "\n",
        "        data.loc[((data[i] > percentiles_2[0]) &\n",
        "                      (data[i] < percentiles_2[1])), i] = 0\n",
        "        data.loc[(data[i] <= percentiles_2[0]), i] = -1\n",
        "        data.loc[(data[i] >= percentiles_2[1]), i] = 1\n",
        "\n",
        "        data[i] = data[i].astype('int8')\n",
        "\n",
        "\n",
        "\n",
        "\n",
        "    return data"
      ]
    },
    {
      "cell_type": "code",
      "execution_count": null,
      "id": "40a88be7",
      "metadata": {
        "id": "40a88be7"
      },
      "outputs": [],
      "source": [
        "\n",
        "\n",
        "for i in os.listdir(\"/content/drive/MyDrive/Хакатон/примеры/\"):\n",
        "\n",
        "\n",
        "    data = pd.read_csv(f'/content/drive/MyDrive/Хакатон/примеры/{i}/ECG.txt',\n",
        "                   sep=\" \", header=None).drop([7], axis=1)\n",
        "\n",
        "    data.columns = ['I', 'II', 'V5', 'III', 'aVL', 'aVR', 'aVF']\n",
        "\n",
        "\n",
        "    prepare_data(data).to_csv(f'{i}_ECG.csv')"
      ]
    },
    {
      "cell_type": "code",
      "source": [
        "X1=[]\n",
        "Y2=[]\n",
        "for i in os.listdir(\"/content/drive/MyDrive/Хакатон/примеры/\"):\n",
        "  exc=pd.read_excel(f'/content/drive/MyDrive/Хакатон/примеры/{i}/dataset.xlsx')\n",
        "  err=exc['тип'].tolist()\n",
        "  err.pop(0)\n",
        "  y=exc['арритмия'].tolist()\n",
        "  y.pop(0)\n",
        "  st=exc['Unnamed: 2'].tolist()\n",
        "  st.pop(0)\n",
        "  Y=[]\n",
        "  X=[]\n",
        "  z=0\n",
        "  for i in y:\n",
        "    if err[z]!='Z' and err[z]!='X':\n",
        "      X.append(st[z])\n",
        "      if i=='бигеминия':\n",
        "        Y.append([1,0])\n",
        "      else:\n",
        "        Y.append([0,1])\n",
        "    z+=1\n",
        "    X1.append(X)\n",
        "    Y2.append(Y)"
      ],
      "metadata": {
        "id": "qeE9vC8AXYZc"
      },
      "id": "qeE9vC8AXYZc",
      "execution_count": null,
      "outputs": []
    },
    {
      "cell_type": "code",
      "source": [
        "\n"
      ],
      "metadata": {
        "id": "1NNbHMv2aGpj"
      },
      "id": "1NNbHMv2aGpj",
      "execution_count": null,
      "outputs": []
    },
    {
      "cell_type": "code",
      "execution_count": null,
      "id": "9af57503",
      "metadata": {
        "id": "9af57503"
      },
      "outputs": [],
      "source": [
        "\n",
        "data = pd.read_csv('/content/9774_ECG.csv', index_col=0)"
      ]
    },
    {
      "cell_type": "code",
      "execution_count": null,
      "id": "c0c87393",
      "metadata": {
        "id": "c0c87393"
      },
      "outputs": [],
      "source": []
    },
    {
      "cell_type": "code",
      "execution_count": null,
      "id": "4f102710",
      "metadata": {
        "id": "4f102710"
      },
      "outputs": [],
      "source": [
        "a1=data.values\n",
        "a1=list(a1)"
      ]
    },
    {
      "cell_type": "code",
      "source": [
        "XX=[]\n",
        "YY=[]"
      ],
      "metadata": {
        "id": "yh6oI5-LdEGB"
      },
      "id": "yh6oI5-LdEGB",
      "execution_count": null,
      "outputs": []
    },
    {
      "cell_type": "code",
      "source": [
        "XX=list(XX)\n",
        "YY=list(YY)"
      ],
      "metadata": {
        "id": "uYOb8N_Pgt3h"
      },
      "id": "uYOb8N_Pgt3h",
      "execution_count": null,
      "outputs": []
    },
    {
      "cell_type": "code",
      "source": [
        "exc=pd.read_excel(f'/content/drive/MyDrive/Хакатон/примеры/9774/dataset.xlsx')\n",
        "err=exc['тип'].tolist()\n",
        "err.pop(0)\n",
        "y=exc['арритмия'].tolist()\n",
        "y.pop(0)\n",
        "st=exc['Unnamed: 2'].tolist()\n",
        "st.pop(0)\n",
        "Y=[]\n",
        "X=[]\n",
        "z=0\n",
        "for i in y:\n",
        "  if err[z]!='Z' and err[z]!='X':\n",
        "    X.append(st[z])\n",
        "    if i=='бигеминия':\n",
        "      Y.append([1,0])\n",
        "    else:\n",
        "      Y.append([0,1])\n",
        "  z+=1\n",
        "\n",
        "for i in X:\n",
        "  XX.append(a1[i-1])\n",
        "for i in Y:\n",
        "  YY.append(i)"
      ],
      "metadata": {
        "id": "XM6JFHfoc4Vg"
      },
      "id": "XM6JFHfoc4Vg",
      "execution_count": null,
      "outputs": []
    },
    {
      "cell_type": "code",
      "source": [
        "len(YY)"
      ],
      "metadata": {
        "colab": {
          "base_uri": "https://localhost:8080/"
        },
        "id": "_UZwtae8bj8C",
        "outputId": "02abac6d-74ea-424a-bf80-ba38c60c1911"
      },
      "id": "_UZwtae8bj8C",
      "execution_count": null,
      "outputs": [
        {
          "output_type": "execute_result",
          "data": {
            "text/plain": [
              "1241573"
            ]
          },
          "metadata": {},
          "execution_count": 65
        }
      ]
    },
    {
      "cell_type": "code",
      "source": [
        "XX=np.array(XX)\n",
        "YY=np.array(YY)\n",
        "np.save('XX2',XX)\n",
        "np.save('YY2',YY)"
      ],
      "metadata": {
        "id": "kW_gxGutbZxK"
      },
      "id": "kW_gxGutbZxK",
      "execution_count": null,
      "outputs": []
    },
    {
      "cell_type": "code",
      "source": [
        "XX=np.load('/content/XX2.npy')\n",
        "YY=np.load('/content/YY2.npy')"
      ],
      "metadata": {
        "id": "NidVv2I1A4nb"
      },
      "id": "NidVv2I1A4nb",
      "execution_count": null,
      "outputs": []
    },
    {
      "cell_type": "code",
      "source": [
        "#перемешиваем\n",
        "from sklearn import utils\n",
        "x1,y1 = utils.shuffle(XX, YY)"
      ],
      "metadata": {
        "id": "HID8QIOQa-oG"
      },
      "id": "HID8QIOQa-oG",
      "execution_count": null,
      "outputs": []
    },
    {
      "cell_type": "code",
      "source": [
        "x1=list(x1)\n",
        "y1=list(y1)"
      ],
      "metadata": {
        "id": "UKJGfn4Bscbf"
      },
      "id": "UKJGfn4Bscbf",
      "execution_count": null,
      "outputs": []
    },
    {
      "cell_type": "code",
      "source": [
        "ccc=len(y1)\n",
        "ccc"
      ],
      "metadata": {
        "colab": {
          "base_uri": "https://localhost:8080/"
        },
        "id": "DUe5zddCslUH",
        "outputId": "b842aaa5-f4cd-40c2-9c55-9ef8851ef55b"
      },
      "id": "DUe5zddCslUH",
      "execution_count": null,
      "outputs": [
        {
          "output_type": "execute_result",
          "data": {
            "text/plain": [
              "1241573"
            ]
          },
          "metadata": {},
          "execution_count": 6
        }
      ]
    },
    {
      "cell_type": "code",
      "source": [
        "#уменьшаем тренировочную выборку т к значений с отсутвующей бигеминией в 10 раз юольше\n",
        "x2=[]\n",
        "y2=[]\n",
        "w=0\n",
        "for i in range(ccc):\n",
        "  if w<=200000:\n",
        "    x2.append(x1[i])\n",
        "    y2.append(y1[i])\n",
        "  else:\n",
        "    if list(y1[i])==[1,0]:\n",
        "      x2.append(x1[i])\n",
        "      y2.append(y1[i])\n",
        "  if list(y1[i])==[0,1]:\n",
        "    w+=1"
      ],
      "metadata": {
        "id": "bjJ8LPk9sMQF"
      },
      "id": "bjJ8LPk9sMQF",
      "execution_count": null,
      "outputs": []
    },
    {
      "cell_type": "code",
      "source": [
        "len(x2)"
      ],
      "metadata": {
        "colab": {
          "base_uri": "https://localhost:8080/"
        },
        "id": "XEeNwuOR_I6s",
        "outputId": "15b799ba-6b86-411c-d8a7-4430fac3d0e0"
      },
      "id": "XEeNwuOR_I6s",
      "execution_count": null,
      "outputs": [
        {
          "output_type": "execute_result",
          "data": {
            "text/plain": [
              "375050"
            ]
          },
          "metadata": {},
          "execution_count": 8
        }
      ]
    },
    {
      "cell_type": "code",
      "source": [
        "x2=np.array(x2)\n",
        "y2=np.array(y2)"
      ],
      "metadata": {
        "id": "tLfxbCWsAEvt"
      },
      "id": "tLfxbCWsAEvt",
      "execution_count": null,
      "outputs": []
    },
    {
      "cell_type": "code",
      "source": [
        "from tensorflow.keras.layers import Dense,SimpleRNN,Input,Embedding\n",
        "from tensorflow.keras.models import Sequential\n",
        "from tensorflow.keras.optimizers import Adam\n",
        "from tensorflow.keras.preprocessing.text import Tokenizer, text_to_word_sequence\n",
        "from tensorflow.keras.utils import to_categorical\n",
        "from tensorflow.keras.layers import Dense, LSTM, Input, Dropout, Embedding\n",
        "import pandas as pd\n",
        "import numpy as np\n",
        "from sklearn import utils\n",
        "import keras"
      ],
      "metadata": {
        "id": "QGHwpo2pqyH6"
      },
      "id": "QGHwpo2pqyH6",
      "execution_count": null,
      "outputs": []
    },
    {
      "cell_type": "code",
      "execution_count": null,
      "id": "487ab7d0",
      "metadata": {
        "id": "487ab7d0"
      },
      "outputs": [],
      "source": [
        "#структура модели\n",
        "model = Sequential()\n",
        "model.add(Input(shape=(7,)))\n",
        "model.add(Dense(28))\n",
        "model.add(Dense(64))\n",
        "model.add(Dropout(0.1))\n",
        "model.add(Dense(64))\n",
        "model.add(Dense(28))\n",
        "model.add(Dense(2, activation='softmax'))"
      ]
    },
    {
      "cell_type": "code",
      "source": [
        "model.summary()"
      ],
      "metadata": {
        "id": "MNvj3J2FV7Sf"
      },
      "id": "MNvj3J2FV7Sf",
      "execution_count": null,
      "outputs": []
    },
    {
      "cell_type": "code",
      "source": [
        "model.compile(loss='categorical_crossentropy', metrics=['accuracy'], optimizer=Adam(0.0001))"
      ],
      "metadata": {
        "id": "Wn5Bi59kVjJm"
      },
      "id": "Wn5Bi59kVjJm",
      "execution_count": null,
      "outputs": []
    },
    {
      "cell_type": "code",
      "source": [
        "history = model.fit(x2, y2, batch_size=512, epochs=15)"
      ],
      "metadata": {
        "id": "H7qRNL_GV5vp"
      },
      "id": "H7qRNL_GV5vp",
      "execution_count": null,
      "outputs": []
    },
    {
      "cell_type": "code",
      "source": [
        "data = pd.read_csv('/content/8555_ECG.csv', index_col=0)"
      ],
      "metadata": {
        "id": "TO8BfjTOwRB7"
      },
      "id": "TO8BfjTOwRB7",
      "execution_count": null,
      "outputs": []
    },
    {
      "cell_type": "code",
      "source": [
        "qw=list(data.values)"
      ],
      "metadata": {
        "id": "GHB-_QI3xUZ7"
      },
      "id": "GHB-_QI3xUZ7",
      "execution_count": null,
      "outputs": []
    },
    {
      "cell_type": "code",
      "source": [
        "n=len(qw)//250"
      ],
      "metadata": {
        "id": "o-R0jWyR1ztk"
      },
      "id": "o-R0jWyR1ztk",
      "execution_count": null,
      "outputs": []
    },
    {
      "cell_type": "code",
      "source": [
        "ind=[]\n",
        "for i in range(n):\n",
        "  if i==0:\n",
        "    continue\n",
        "  for j in range(20):\n",
        "    ind.append(250*i+10-j)\n",
        "ind.sort()"
      ],
      "metadata": {
        "id": "gIGfa0Rb151K"
      },
      "id": "gIGfa0Rb151K",
      "execution_count": null,
      "outputs": []
    },
    {
      "cell_type": "code",
      "source": [],
      "metadata": {
        "id": "FMwqFa632Ep8"
      },
      "id": "FMwqFa632Ep8",
      "execution_count": null,
      "outputs": []
    },
    {
      "cell_type": "code",
      "source": [
        "sa=[]\n",
        "for i in ind:\n",
        "  sa.append(qw[i])"
      ],
      "metadata": {
        "id": "FCnKnHZZ2V1-"
      },
      "id": "FCnKnHZZ2V1-",
      "execution_count": null,
      "outputs": []
    },
    {
      "cell_type": "code",
      "source": [],
      "metadata": {
        "id": "8GK9z8fa2e6_"
      },
      "id": "8GK9z8fa2e6_",
      "execution_count": null,
      "outputs": []
    },
    {
      "cell_type": "code",
      "source": [
        "x=np.array(sa)"
      ],
      "metadata": {
        "id": "MkkPo53z2xFi"
      },
      "id": "MkkPo53z2xFi",
      "execution_count": null,
      "outputs": []
    },
    {
      "cell_type": "code",
      "source": [
        "ans=model.predict(x)"
      ],
      "metadata": {
        "id": "N9WvUObS22un"
      },
      "id": "N9WvUObS22un",
      "execution_count": null,
      "outputs": []
    },
    {
      "cell_type": "code",
      "source": [
        "ans1=list(ans)"
      ],
      "metadata": {
        "id": "pt5hwXyO4alS"
      },
      "id": "pt5hwXyO4alS",
      "execution_count": null,
      "outputs": []
    },
    {
      "cell_type": "code",
      "source": [
        "A=[]\n",
        "for i in ans1:\n",
        "  if list(i)[0]>=0.6:\n",
        "    A.append(1)\n",
        "  else:\n",
        "    A.append(0)"
      ],
      "metadata": {
        "id": "rWy3UHOZ4aap"
      },
      "id": "rWy3UHOZ4aap",
      "execution_count": null,
      "outputs": []
    },
    {
      "cell_type": "code",
      "source": [],
      "metadata": {
        "id": "c5oGqKKF5Jyc"
      },
      "id": "c5oGqKKF5Jyc",
      "execution_count": null,
      "outputs": []
    },
    {
      "cell_type": "code",
      "source": [
        "indA=[]\n",
        "for i in range(len(A)):\n",
        "  if A[i]==1:\n",
        "    indA.append(ind[i])"
      ],
      "metadata": {
        "id": "AZbYR_zy5vzg"
      },
      "id": "AZbYR_zy5vzg",
      "execution_count": null,
      "outputs": []
    },
    {
      "cell_type": "code",
      "source": [],
      "metadata": {
        "id": "wu6sBKpB52q6"
      },
      "id": "wu6sBKpB52q6",
      "execution_count": null,
      "outputs": []
    },
    {
      "cell_type": "code",
      "source": [
        "df=pd.DataFrame({'строки':indA,})"
      ],
      "metadata": {
        "id": "HR4PFVxG90MQ"
      },
      "id": "HR4PFVxG90MQ",
      "execution_count": null,
      "outputs": []
    },
    {
      "cell_type": "code",
      "source": [
        "df.to_excel('/content/drive/MyDrive/Хакатон/8555.xlsx')"
      ],
      "metadata": {
        "id": "oL_neyDc-DQi"
      },
      "id": "oL_neyDc-DQi",
      "execution_count": null,
      "outputs": []
    }
  ],
  "metadata": {
    "kernelspec": {
      "display_name": "Python 3 (ipykernel)",
      "language": "python",
      "name": "python3"
    },
    "language_info": {
      "codemirror_mode": {
        "name": "ipython",
        "version": 3
      },
      "file_extension": ".py",
      "mimetype": "text/x-python",
      "name": "python",
      "nbconvert_exporter": "python",
      "pygments_lexer": "ipython3",
      "version": "3.8.10"
    },
    "colab": {
      "provenance": []
    }
  },
  "nbformat": 4,
  "nbformat_minor": 5
}